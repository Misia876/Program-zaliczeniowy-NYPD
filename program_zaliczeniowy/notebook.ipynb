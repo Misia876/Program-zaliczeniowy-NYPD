{
 "cells": [
  {
   "cell_type": "code",
   "execution_count": 2,
   "id": "c83d70c7",
   "metadata": {},
   "outputs": [
    {
     "name": "stdout",
     "output_type": "stream",
     "text": [
      "Ścieżka pliku wyjściowego: wyniki.csv\n"
     ]
    }
   ],
   "source": [
    "import argparse\n",
    "import sys\n",
    "\n",
    "sys.argv = [\"notebook\", \"wyniki\", \"--nadpisz\"]\n",
    "\n",
    "parser = argparse.ArgumentParser(description=\"Zapis danych do pliku CSV\")\n",
    "parser.add_argument(\"nazwa_pliku\", help=\"Nazwa pliku wyjściowego (bez .csv)\")\n",
    "parser.add_argument(\"--nadpisz\", action=\"store_true\", help=\"Nadpisz istniejący plik\")\n",
    "args = parser.parse_args()\n",
    "\n",
    "sciezka = f\"{args.nazwa_pliku}.csv\"\n",
    "print(f\"Ścieżka pliku wyjściowego: {sciezka}\")"
   ]
  },
  {
   "cell_type": "code",
   "execution_count": null,
   "id": "980c8719",
   "metadata": {},
   "outputs": [
    {
     "name": "stdout",
     "output_type": "stream",
     "text": [
      "File downloaded successfully\n",
      "File downloaded successfully\n"
     ]
    }
   ],
   "source": [
    "import numpy\n",
    "import pandas\n",
    "\n",
    "from analizy.statystyki import statystyki \n",
    "from analizy.korelacje import macierz_korelacji, konkretna_korelacja\n",
    "from dane.dane import dane\n",
    "from testy.testy import test_populacja, test_pozary\n",
    "\n",
    "zlaczone, populacja_wojewodztw_sorted, ludnosc_polska, pozar_na_wojewodztwo_sorted = dane()\n"
   ]
  },
  {
   "cell_type": "code",
   "execution_count": null,
   "id": "5a0aa144",
   "metadata": {},
   "outputs": [
    {
     "name": "stdout",
     "output_type": "stream",
     "text": [
      "Statystyki dla populacji:\n",
      "średnia: 2352281.75\n",
      "mediana: 2041361.5\n",
      "odchylenie standardowe: 1295665.6178594073\n"
     ]
    }
   ],
   "source": [
    "#statystyki odnośnie populacji\n",
    "stat_popul = statystyki(zlaczone[\"populacja\"])\n",
    "print(\"Statystyki dla populacji:\")\n",
    "for nazwa, wartosc in stat_popul.items():\n",
    "        print(f\"{nazwa}: {wartosc}\")"
   ]
  },
  {
   "cell_type": "code",
   "execution_count": null,
   "id": "adc06137",
   "metadata": {},
   "outputs": [
    {
     "name": "stdout",
     "output_type": "stream",
     "text": [
      "Statystyki dla pożarów:\n",
      "średnia: 6477.4375\n",
      "mediana: 5447.5\n",
      "odchylenie standardowe: 3724.0684019631003\n"
     ]
    }
   ],
   "source": [
    "#statystyki odnośnie pożarów\n",
    "stat_poz = statystyki(zlaczone[\"pozary\"])\n",
    "print(\"Statystyki dla pożarów:\")\n",
    "for nazwa, wartosc in stat_poz.items():\n",
    "        print(f\"{nazwa}: {wartosc}\")"
   ]
  },
  {
   "cell_type": "code",
   "execution_count": null,
   "id": "1b56b99e",
   "metadata": {},
   "outputs": [
    {
     "name": "stdout",
     "output_type": "stream",
     "text": [
      "Statystyki dla alkoholu:\n",
      "średnia: 26.0\n",
      "mediana: 14.0\n",
      "odchylenie standardowe: 30.813416991087937\n"
     ]
    }
   ],
   "source": [
    "#statystyki odnośnie alkoholu\n",
    "stat_alko = statystyki(zlaczone[\"alkohol\"])\n",
    "print(\"Statystyki dla alkoholu:\")\n",
    "for nazwa, wartosc in stat_alko.items():\n",
    "        print(f\"{nazwa}: {wartosc}\")"
   ]
  },
  {
   "cell_type": "code",
   "execution_count": null,
   "id": "03434b65",
   "metadata": {},
   "outputs": [
    {
     "name": "stdout",
     "output_type": "stream",
     "text": [
      "Macierz korelacji:               populacja    pozary   alkohol  pozar_alarmy\n",
      "populacja      1.000000  0.128122  0.055369      0.274631\n",
      "pozary         0.128122  1.000000  0.301959      0.958045\n",
      "alkohol        0.055369  0.301959  1.000000      0.168981\n",
      "pozar_alarmy   0.274631  0.958045  0.168981      1.000000\n"
     ]
    }
   ],
   "source": [
    "#zbiorcza macierz korelacji\n",
    "korelacje = macierz_korelacji(zlaczone)\n",
    "print(f\"Macierz korelacji: {korelacje}\")"
   ]
  },
  {
   "cell_type": "code",
   "execution_count": null,
   "id": "e21c86e2",
   "metadata": {},
   "outputs": [
    {
     "name": "stdout",
     "output_type": "stream",
     "text": [
      "Korelacja populacja a pożary: 0.12812180876618426\n"
     ]
    }
   ],
   "source": [
    "#korelacja między liczbą ludności a ilością pożarów\n",
    "popul_poz = konkretna_korelacja(korelacje, 'populacja', 'pozary')\n",
    "print(f\"Koorelacja między liczbą ludności a ilością pożarów: {popul_poz}\")\n"
   ]
  },
  {
   "cell_type": "code",
   "execution_count": null,
   "id": "65e87a43",
   "metadata": {},
   "outputs": [
    {
     "name": "stdout",
     "output_type": "stream",
     "text": [
      "Korelacja populacja a alkohol: 0.05536889680584552\n"
     ]
    }
   ],
   "source": [
    "#korelacja między liczbą ludności a spożyciem alkoholu\n",
    "popul_alko = konkretna_korelacja(korelacje, 'populacja', 'alkohol')\n",
    "print(f\"Korelacja między liczbą ludności a spożyciem alkoholu: {popul_alko}\")"
   ]
  },
  {
   "cell_type": "code",
   "execution_count": null,
   "id": "29dcbdd8",
   "metadata": {},
   "outputs": [
    {
     "name": "stdout",
     "output_type": "stream",
     "text": [
      "Korelacja pożary a alkohol: 0.30195859755091825\n"
     ]
    }
   ],
   "source": [
    "#korelacja między ilością pożarów a spożyciem alkoholu\n",
    "poz_alko = konkretna_korelacja(korelacje, 'pozary', 'alkohol')\n",
    "print(f\"Korelacja między ilością pożarów a spożyciem alkoholu: {poz_alko}\")"
   ]
  },
  {
   "cell_type": "code",
   "execution_count": null,
   "id": "1d25ba02",
   "metadata": {},
   "outputs": [
    {
     "name": "stdout",
     "output_type": "stream",
     "text": [
      "Korelacja fałszywe alarmy pożarów a populacja: 0.2746312605889515\n"
     ]
    }
   ],
   "source": [
    "#korelacja między ilością fałszywych alarmów pożarowych a liczbą ludności - moja korelacja\n",
    "alarm_popul = konkretna_korelacja(korelacje, 'pozar_alarmy', 'populacja')\n",
    "print(f\"Korelacja między ilością fałszywych alarmów pożarowych a liczbą ludności: {alarm_popul}\")"
   ]
  },
  {
   "cell_type": "code",
   "execution_count": null,
   "id": "8f56a018",
   "metadata": {},
   "outputs": [
    {
     "name": "stdout",
     "output_type": "stream",
     "text": [
      "Różnica między sumą populacji województw a populacją Polski: 0.0\n",
      "Różnica między sumą pożarów różnej wielkości a łączną liczbą pożarów: 0\n"
     ]
    }
   ],
   "source": [
    "#sprawdzenie ewentualnych niespójności\n",
    "roznica_populacji = test_populacja(populacja_wojewodztw_sorted, ludnosc_polska)\n",
    "print(f'Różnica między sumą populacji województw a populacją Polski: {roznica_populacji}')\n",
    "\n",
    "roznica_pozarow = test_pozary(pozar_na_wojewodztwo_sorted)\n",
    "print(f\"Różnica między sumą pożarów różnej wielkości a łączną liczbą pożarów: {roznica_pozarow}\")"
   ]
  }
 ],
 "metadata": {
  "kernelspec": {
   "display_name": "Python 3",
   "language": "python",
   "name": "python3"
  },
  "language_info": {
   "codemirror_mode": {
    "name": "ipython",
    "version": 3
   },
   "file_extension": ".py",
   "mimetype": "text/x-python",
   "name": "python",
   "nbconvert_exporter": "python",
   "pygments_lexer": "ipython3",
   "version": "3.12.10"
  }
 },
 "nbformat": 4,
 "nbformat_minor": 5
}
